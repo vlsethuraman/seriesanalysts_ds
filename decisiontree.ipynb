{
  "nbformat": 4,
  "nbformat_minor": 0,
  "metadata": {
    "colab": {
      "provenance": []
    },
    "kernelspec": {
      "name": "python3",
      "display_name": "Python 3"
    },
    "language_info": {
      "name": "python"
    }
  },
  "cells": [
    {
      "cell_type": "code",
      "source": [
        "from google.colab import drive\n",
        "drive.mount('/content/drive', force_remount=True)"
      ],
      "metadata": {
        "id": "ipkrbnm9uBhz",
        "colab": {
          "base_uri": "https://localhost:8080/"
        },
        "outputId": "289c5650-0f08-44ea-ae1d-b4e557cacfec"
      },
      "execution_count": null,
      "outputs": [
        {
          "output_type": "stream",
          "name": "stdout",
          "text": [
            "Mounted at /content/drive\n"
          ]
        }
      ]
    },
    {
      "cell_type": "code",
      "execution_count": null,
      "metadata": {
        "id": "25ZYjMT2qAMr",
        "colab": {
          "base_uri": "https://localhost:8080/"
        },
        "outputId": "bab6a680-b66a-453c-d131-9bebcbaf6c03"
      },
      "outputs": [
        {
          "output_type": "stream",
          "name": "stderr",
          "text": [
            "<ipython-input-19-35a9b52b15c3>:4: DtypeWarning: Columns (3,7,9,10,17,18,21,22,23,25,26,29,30,37) have mixed types. Specify dtype option on import or set low_memory=False.\n",
            "  objects_df = pd.read_csv('/content/drive/MyDrive/Series A-nalysts/archive/objects.csv')\n"
          ]
        }
      ],
      "source": [
        "import pandas as pd\n",
        "import numpy as np\n",
        "funding_rounds_df = pd.read_csv('/content/drive/MyDrive/Series A-nalysts/archive/funding_rounds.csv')\n",
        "objects_df = pd.read_csv('/content/drive/MyDrive/Series A-nalysts/archive/objects.csv')"
      ]
    },
    {
      "cell_type": "markdown",
      "source": [
        "###Now we merge the objects_df which has all the companies' information and funding_rounds_df which has the information for funding rounds for each company into one dataframe"
      ],
      "metadata": {
        "id": "BlznXLgGCfyB"
      }
    },
    {
      "cell_type": "code",
      "source": [
        "full_df = pd.merge(objects_df, funding_rounds_df, left_on=\"id\", right_on=\"object_id\", how=\"inner\")"
      ],
      "metadata": {
        "id": "24CYN6ad4zDd"
      },
      "execution_count": null,
      "outputs": []
    },
    {
      "cell_type": "markdown",
      "source": [
        "### This is a simplification of our data and we can quickly see what to expect from our data."
      ],
      "metadata": {
        "id": "rPnDxMQz92Fg"
      }
    },
    {
      "cell_type": "code",
      "source": [
        "full_df_simplified = full_df[['id_x',  'founded_at', 'funding_rounds', 'funded_at', 'raised_amount_usd',  'is_last_round']]"
      ],
      "metadata": {
        "id": "VssAnqE867KT"
      },
      "execution_count": null,
      "outputs": []
    },
    {
      "cell_type": "markdown",
      "source": [
        "###Here we fill na fields with the median and convert dates to datetime format. We also add columns such as company age at funding which is a numerical value. This allows our models to analyze the datetime information."
      ],
      "metadata": {
        "id": "u8pjZPYuFY1m"
      }
    },
    {
      "cell_type": "code",
      "source": [
        "# Sort the data\n",
        "full_df_simplified = full_df_simplified.sort_values(by=['id_x', 'funded_at'])\n",
        "full_df_simplified = full_df_simplified[full_df_simplified['raised_amount_usd'] < 40000000]\n",
        "\n",
        "# Calculate cumulative sum of raised_amount_usd and current number of funding rounds\n",
        "full_df_simplified['total_funding_until_this_point'] = full_df_simplified.groupby('id_x')['raised_amount_usd'].cumsum()\n",
        "full_df_simplified['current_number_of_funding_rounds'] = full_df_simplified.groupby('id_x').cumcount() + 1\n",
        "\n",
        "# Convert dates to datetime and create time features\n",
        "full_df_simplified['founded_at'] = pd.to_datetime(full_df_simplified['founded_at'])\n",
        "full_df_simplified['funded_at'] = pd.to_datetime(full_df_simplified['funded_at'])\n",
        "full_df_simplified['company_age_at_funding'] = (full_df_simplified['funded_at'] - full_df_simplified['founded_at']).dt.days\n",
        "full_df_simplified['time_since_last_round'] = full_df_simplified.groupby('id_x')['funded_at'].diff().dt.days.fillna(0)\n",
        "\n",
        "# Shift target variable and drop rows where target is NaN\n",
        "full_df_simplified['next_round_raised_amount_usd'] = full_df_simplified.groupby('id_x')['raised_amount_usd'].shift(-1)\n",
        "full_df_simplified = full_df_simplified.dropna(subset=['next_round_raised_amount_usd'])"
      ],
      "metadata": {
        "id": "8o63XvtbzxPY"
      },
      "execution_count": null,
      "outputs": []
    },
    {
      "cell_type": "markdown",
      "source": [
        "###Drop columns that have really low correlations or aren't used for prediction or that we repurposed into new columns"
      ],
      "metadata": {
        "id": "ZbD8frIkDxvT"
      }
    },
    {
      "cell_type": "code",
      "source": [
        "full_df_simplified.drop(columns=[ 'is_last_round', 'founded_at', 'funded_at'], inplace=True)"
      ],
      "metadata": {
        "id": "Twz98Ic2z5wg",
        "colab": {
          "base_uri": "https://localhost:8080/"
        },
        "outputId": "fdfde975-815b-4f8e-be09-050eac28dd48"
      },
      "execution_count": null,
      "outputs": [
        {
          "output_type": "stream",
          "name": "stderr",
          "text": [
            "<ipython-input-23-923ce55bf106>:1: SettingWithCopyWarning: \n",
            "A value is trying to be set on a copy of a slice from a DataFrame\n",
            "\n",
            "See the caveats in the documentation: https://pandas.pydata.org/pandas-docs/stable/user_guide/indexing.html#returning-a-view-versus-a-copy\n",
            "  full_df_simplified.drop(columns=[ 'is_last_round', 'founded_at', 'funded_at'], inplace=True)\n"
          ]
        }
      ]
    },
    {
      "cell_type": "markdown",
      "source": [
        "###Scale numerical columns"
      ],
      "metadata": {
        "id": "cW5LxapeD_OT"
      }
    },
    {
      "cell_type": "code",
      "source": [
        "# Columns to scale\n",
        "from sklearn.preprocessing import StandardScaler\n",
        "from sklearn.model_selection import train_test_split\n",
        "import numpy as np\n",
        "\n",
        "numerical_cols = ['raised_amount_usd', 'total_funding_until_this_point', 'company_age_at_funding', 'time_since_last_round']\n",
        "\n",
        "# Standardizing these columns\n",
        "scaler = StandardScaler()\n",
        "full_df_simplified[numerical_cols] = scaler.fit_transform(full_df_simplified[numerical_cols])\n",
        "\n",
        "# Fill missing values with the median\n",
        "full_df_simplified = full_df_simplified.fillna(full_df_simplified.median())\n"
      ],
      "metadata": {
        "id": "Ca2raaK13Cnt",
        "colab": {
          "base_uri": "https://localhost:8080/"
        },
        "outputId": "5439d636-79a7-4fcf-d9eb-5b3a289192c6"
      },
      "execution_count": null,
      "outputs": [
        {
          "output_type": "stream",
          "name": "stderr",
          "text": [
            "<ipython-input-24-2cba50ed2c55>:10: SettingWithCopyWarning: \n",
            "A value is trying to be set on a copy of a slice from a DataFrame.\n",
            "Try using .loc[row_indexer,col_indexer] = value instead\n",
            "\n",
            "See the caveats in the documentation: https://pandas.pydata.org/pandas-docs/stable/user_guide/indexing.html#returning-a-view-versus-a-copy\n",
            "  full_df_simplified[numerical_cols] = scaler.fit_transform(full_df_simplified[numerical_cols])\n",
            "<ipython-input-24-2cba50ed2c55>:13: FutureWarning: The default value of numeric_only in DataFrame.median is deprecated. In a future version, it will default to False. In addition, specifying 'numeric_only=None' is deprecated. Select only valid columns or specify the value of numeric_only to silence this warning.\n",
            "  full_df_simplified = full_df_simplified.fillna(full_df_simplified.median())\n"
          ]
        }
      ]
    },
    {
      "cell_type": "markdown",
      "source": [
        "###Filtering of data on round raised amount"
      ],
      "metadata": {
        "id": "rOB8CzspF8tS"
      }
    },
    {
      "cell_type": "code",
      "source": [
        "full_df_simplified = full_df_simplified[full_df_simplified['current_number_of_funding_rounds'] < 4]\n",
        "\n",
        "full_df_simplified_less = full_df_simplified[full_df_simplified['next_round_raised_amount_usd'] < 20000000]\n",
        "full_df_simplified_more = full_df_simplified[full_df_simplified['next_round_raised_amount_usd'] >= 20000000]"
      ],
      "metadata": {
        "id": "Oqo7VvgkFD5b"
      },
      "execution_count": null,
      "outputs": []
    },
    {
      "cell_type": "markdown",
      "source": [
        "---\n",
        "\n",
        "\n",
        "\n",
        "---\n",
        "\n",
        "# END OF DATA PREPROCESSING\n",
        "\n",
        "---\n",
        "\n",
        "\n",
        "\n",
        "---\n",
        "\n"
      ],
      "metadata": {
        "id": "Giqg3TrSGQEV"
      }
    },
    {
      "cell_type": "code",
      "source": [
        "from sklearn.model_selection import train_test_split\n",
        "from sklearn.linear_model import LinearRegression, Ridge, Lasso\n",
        "from sklearn.metrics import mean_squared_error\n",
        "from sklearn.tree import DecisionTreeRegressor\n",
        "import numpy as np\n",
        "import pandas as pd\n",
        "\n",
        "full_df_simplified = full_df_simplified[full_df_simplified['current_number_of_funding_rounds'] < 4]\n",
        "\n",
        "# Defining the target variable and features\n",
        "X = full_df_simplified.drop(['next_round_raised_amount_usd', 'id_x'], axis=1)\n",
        "y = full_df_simplified['next_round_raised_amount_usd']\n",
        "\n",
        "# Splitting data into training and testing sets\n",
        "X_train, X_test, y_train, y_test = train_test_split(X, y, test_size=0.2, random_state=42)\n",
        "\n",
        "X_train, X_val, y_train, y_val = train_test_split(X_train, y_train, test_size=2/9, random_state=42)\n",
        "\n",
        "# Decision Tree Regressor\n",
        "dt_regressor = DecisionTreeRegressor(random_state=42)\n",
        "dt_regressor.fit(X_train, y_train)\n",
        "y_test_pred_dt = dt_regressor.predict(X_test)\n",
        "\n",
        "# Calculate MSE and RMSE for Decision Tree\n",
        "test_mse_dt = mean_squared_error(y_test, y_test_pred_dt)\n",
        "print(f\"Test MSE for Decision Tree model: {test_mse_dt}\")\n",
        "print(f\"RMSE for Decision Tree model: {np.sqrt(test_mse_dt)}\")\n"
      ],
      "metadata": {
        "colab": {
          "base_uri": "https://localhost:8080/"
        },
        "id": "tjw_vEpI9dec",
        "outputId": "a91e452d-d77e-4b1d-8f36-1e7513d70630"
      },
      "execution_count": null,
      "outputs": [
        {
          "output_type": "stream",
          "name": "stdout",
          "text": [
            "Test MSE for Decision Tree model: 81010383805777.3\n",
            "RMSE for Decision Tree model: 9000576.859611683\n"
          ]
        }
      ]
    },
    {
      "cell_type": "code",
      "source": [
        "from sklearn.metrics import mean_squared_error\n",
        "import numpy as np\n",
        "\n",
        "# Calculating RMSE\n",
        "rmse = np.sqrt(mean_squared_error(y_test, y_test_pred_dt))\n",
        "# rmse = np.sqrt(mean_squared_error(y_test_large, y_pred_large))\n",
        "\n",
        "print(f\"RMSE: {rmse}\")\n"
      ],
      "metadata": {
        "colab": {
          "base_uri": "https://localhost:8080/"
        },
        "id": "UPE57VXr9j4Z",
        "outputId": "a6e830b2-7928-4645-de57-3861921d2a8e"
      },
      "execution_count": null,
      "outputs": [
        {
          "output_type": "stream",
          "name": "stdout",
          "text": [
            "RMSE: 9000576.859611683\n"
          ]
        }
      ]
    },
    {
      "cell_type": "code",
      "source": [
        "residuals = abs(y_test - y_test_pred_dt)\n",
        "residuals.describe()\n",
        "#residuals.hist(bins=15)"
      ],
      "metadata": {
        "colab": {
          "base_uri": "https://localhost:8080/"
        },
        "id": "jrWyb-Px9pvA",
        "outputId": "49de432b-82ed-4b4b-a89c-94886d6dec4f"
      },
      "execution_count": null,
      "outputs": [
        {
          "output_type": "execute_result",
          "data": {
            "text/plain": [
              "count    3.577000e+03\n",
              "mean     5.822861e+06\n",
              "std      6.864244e+06\n",
              "min      0.000000e+00\n",
              "25%      9.910000e+05\n",
              "50%      3.220000e+06\n",
              "75%      8.200000e+06\n",
              "max      3.792500e+07\n",
              "Name: next_round_raised_amount_usd, dtype: float64"
            ]
          },
          "metadata": {},
          "execution_count": 31
        }
      ]
    },
    {
      "cell_type": "code",
      "source": [
        "import pandas as pd\n",
        "import matplotlib.pyplot as plt\n",
        "\n",
        "# Calculate the percentage difference\n",
        "percentage_diff = abs((y_test - y_test_pred_dt) / y_test) * 100\n",
        "\n",
        "# Categorize into buckets\n",
        "bins = [0, 5, 10, 15, 20, 25, 30, 35, 40, 45, 50, 55, 60, 65, 70, 75, 80, 85, 90, 95, 100]\n",
        "labels = ['0-5%', '5-10%', '10-15%', '15-20%', '20-25%', '25-30%', '30-35%', '35-40%', '40-45%', '45-50%', '50-55%', '55-60%', '60-65%', '65-70%', '70-75%', '75-80%', '80-85%', '85-90%', '90-95%', '95-100%']\n",
        "percentage_diff_binned = pd.cut(percentage_diff, bins=bins, labels=labels, include_lowest=True)\n",
        "\n",
        "# Plot histogram\n",
        "plt.figure(figsize=(10,6))\n",
        "percentage_diff_binned.value_counts(sort=False).plot(kind='bar')\n",
        "plt.xlabel('Percentage Difference Buckets')\n",
        "plt.ylabel('Frequency')\n",
        "plt.title('Histogram of Percentage Difference between Predicted and Actual Values')\n",
        "plt.show()"
      ],
      "metadata": {
        "colab": {
          "base_uri": "https://localhost:8080/",
          "height": 612
        },
        "id": "LCy87CXr9rMd",
        "outputId": "be61e5ea-4cc0-486f-ce3f-7d652ba6817c"
      },
      "execution_count": null,
      "outputs": [
        {
          "output_type": "display_data",
          "data": {
            "text/plain": [
              "<Figure size 1000x600 with 1 Axes>"
            ],
            "image/png": "[encoded data removed]"
          },
          "metadata": {}
        }
      ]
    },
    {
      "cell_type": "code",
      "source": [
        "full_df_simplified.describe()\n",
        "full_df_simplified['next_round_raised_amount_usd'].hist(bins=15)"
      ],
      "metadata": {
        "colab": {
          "base_uri": "https://localhost:8080/",
          "height": 465
        },
        "id": "MpKWsoLX9tAo",
        "outputId": "f09af210-c918-409a-92b4-6b8cf2b76a3d"
      },
      "execution_count": null,
      "outputs": [
        {
          "output_type": "execute_result",
          "data": {
            "text/plain": [
              "<Axes: >"
            ]
          },
          "metadata": {},
          "execution_count": 30
        },
        {
          "output_type": "display_data",
          "data": {
            "text/plain": [
              "<Figure size 640x480 with 1 Axes>"
            ],
            "image/png": "[encoded data removed]"
          },
          "metadata": {}
        }
      ]
    }
  ]
}