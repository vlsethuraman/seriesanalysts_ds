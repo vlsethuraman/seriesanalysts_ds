{
  "nbformat": 4,
  "nbformat_minor": 0,
  "metadata": {
    "colab": {
      "provenance": []
    },
    "kernelspec": {
      "name": "python3",
      "display_name": "Python 3"
    },
    "language_info": {
      "name": "python"
    }
  },
  "cells": [
    {
      "cell_type": "code",
      "source": [
        "from google.colab import drive\n",
        "drive.mount('/content/drive', force_remount=True)"
      ],
      "metadata": {
        "id": "ipkrbnm9uBhz",
        "colab": {
          "base_uri": "https://localhost:8080/"
        },
        "outputId": "66a5d7f7-346d-40aa-d3f0-06f095b71e48"
      },
      "execution_count": null,
      "outputs": [
        {
          "output_type": "stream",
          "name": "stdout",
          "text": [
            "Mounted at /content/drive\n"
          ]
        }
      ]
    },
    {
      "cell_type": "code",
      "execution_count": null,
      "metadata": {
        "id": "25ZYjMT2qAMr",
        "colab": {
          "base_uri": "https://localhost:8080/"
        },
        "outputId": "5e7abb15-9b68-4e15-b0e6-590c5c9d251b"
      },
      "outputs": [
        {
          "output_type": "stream",
          "name": "stderr",
          "text": [
            "<ipython-input-2-35a9b52b15c3>:4: DtypeWarning: Columns (3,7,9,10,17,18,21,22,23,25,26,29,30,37) have mixed types. Specify dtype option on import or set low_memory=False.\n",
            "  objects_df = pd.read_csv('/content/drive/MyDrive/Series A-nalysts/archive/objects.csv')\n"
          ]
        }
      ],
      "source": [
        "import pandas as pd\n",
        "import numpy as np\n",
        "funding_rounds_df = pd.read_csv('/content/drive/MyDrive/Series A-nalysts/archive/funding_rounds.csv')\n",
        "objects_df = pd.read_csv('/content/drive/MyDrive/Series A-nalysts/archive/objects.csv')"
      ]
    },
    {
      "cell_type": "code",
      "source": [
        "objects_df.keys()"
      ],
      "metadata": {
        "colab": {
          "base_uri": "https://localhost:8080/"
        },
        "id": "G0ZmKJjX_Ns9",
        "outputId": "192be0d2-9c07-4ab5-ca12-7283ac4cd1c0"
      },
      "execution_count": null,
      "outputs": [
        {
          "output_type": "execute_result",
          "data": {
            "text/plain": [
              "Index(['id', 'entity_type', 'entity_id', 'parent_id', 'name',\n",
              "       'normalized_name', 'permalink', 'category_code', 'status', 'founded_at',\n",
              "       'closed_at', 'domain', 'homepage_url', 'twitter_username', 'logo_url',\n",
              "       'logo_width', 'logo_height', 'short_description', 'description',\n",
              "       'overview', 'tag_list', 'country_code', 'state_code', 'city', 'region',\n",
              "       'first_investment_at', 'last_investment_at', 'investment_rounds',\n",
              "       'invested_companies', 'first_funding_at', 'last_funding_at',\n",
              "       'funding_rounds', 'funding_total_usd', 'first_milestone_at',\n",
              "       'last_milestone_at', 'milestones', 'relationships', 'created_by',\n",
              "       'created_at', 'updated_at'],\n",
              "      dtype='object')"
            ]
          },
          "metadata": {},
          "execution_count": 3
        }
      ]
    },
    {
      "cell_type": "markdown",
      "source": [
        "###Now we merge the objects_df which has all the companies' information and funding_rounds_df which has the information for funding rounds for each company into one dataframe"
      ],
      "metadata": {
        "id": "BlznXLgGCfyB"
      }
    },
    {
      "cell_type": "code",
      "source": [
        "full_df = pd.merge(objects_df, funding_rounds_df, left_on=\"id\", right_on=\"object_id\", how=\"inner\")"
      ],
      "metadata": {
        "id": "24CYN6ad4zDd"
      },
      "execution_count": null,
      "outputs": []
    },
    {
      "cell_type": "markdown",
      "source": [
        "### This is a simplification of our data and we can quickly see what to expect from our data."
      ],
      "metadata": {
        "id": "rPnDxMQz92Fg"
      }
    },
    {
      "cell_type": "code",
      "source": [
        "full_df_simplified = full_df[['id_x',  'founded_at', 'funding_rounds', 'funded_at', 'raised_amount_usd',  'is_last_round']]"
      ],
      "metadata": {
        "id": "VssAnqE867KT"
      },
      "execution_count": null,
      "outputs": []
    },
    {
      "cell_type": "markdown",
      "source": [
        "###Here we fill na fields with the median and convert dates to datetime format. We also add columns such as company age at funding which is a numerical value. This allows our models to analyze the datetime information."
      ],
      "metadata": {
        "id": "u8pjZPYuFY1m"
      }
    },
    {
      "cell_type": "code",
      "source": [
        "# Sort the data\n",
        "full_df_simplified = full_df_simplified.sort_values(by=['id_x', 'funded_at'])\n",
        "full_df_simplified = full_df_simplified[full_df_simplified['raised_amount_usd'] < 40000000]\n",
        "\n",
        "# Calculate cumulative sum of raised_amount_usd and current number of funding rounds\n",
        "full_df_simplified['total_funding_until_this_point'] = full_df_simplified.groupby('id_x')['raised_amount_usd'].cumsum()\n",
        "full_df_simplified['current_number_of_funding_rounds'] = full_df_simplified.groupby('id_x').cumcount() + 1\n",
        "\n",
        "# Convert dates to datetime and create time features\n",
        "full_df_simplified['founded_at'] = pd.to_datetime(full_df_simplified['founded_at'])\n",
        "full_df_simplified['funded_at'] = pd.to_datetime(full_df_simplified['funded_at'])\n",
        "full_df_simplified['company_age_at_funding'] = (full_df_simplified['funded_at'] - full_df_simplified['founded_at']).dt.days\n",
        "full_df_simplified['time_since_last_round'] = full_df_simplified.groupby('id_x')['funded_at'].diff().dt.days.fillna(0)\n",
        "\n",
        "# Shift target variable and drop rows where target is NaN\n",
        "full_df_simplified['next_round_raised_amount_usd'] = full_df_simplified.groupby('id_x')['raised_amount_usd'].shift(-1)\n",
        "full_df_simplified = full_df_simplified.dropna(subset=['next_round_raised_amount_usd'])"
      ],
      "metadata": {
        "id": "8o63XvtbzxPY",
        "colab": {
          "base_uri": "https://localhost:8080/"
        },
        "outputId": "03292c27-feb6-4583-a1d4-ca0ffd36c232"
      },
      "execution_count": null,
      "outputs": [
        {
          "output_type": "stream",
          "name": "stderr",
          "text": [
            "<ipython-input-6-35976fbc065c>:7: SettingWithCopyWarning: \n",
            "A value is trying to be set on a copy of a slice from a DataFrame.\n",
            "Try using .loc[row_indexer,col_indexer] = value instead\n",
            "\n",
            "See the caveats in the documentation: https://pandas.pydata.org/pandas-docs/stable/user_guide/indexing.html#returning-a-view-versus-a-copy\n",
            "  full_df_simplified['total_funding_until_this_point'] = full_df_simplified.groupby('id_x')['raised_amount_usd'].cumsum()\n",
            "<ipython-input-6-35976fbc065c>:8: SettingWithCopyWarning: \n",
            "A value is trying to be set on a copy of a slice from a DataFrame.\n",
            "Try using .loc[row_indexer,col_indexer] = value instead\n",
            "\n",
            "See the caveats in the documentation: https://pandas.pydata.org/pandas-docs/stable/user_guide/indexing.html#returning-a-view-versus-a-copy\n",
            "  full_df_simplified['current_number_of_funding_rounds'] = full_df_simplified.groupby('id_x').cumcount() + 1\n"
          ]
        }
      ]
    },
    {
      "cell_type": "markdown",
      "source": [
        "###Drop columns that have really low correlations or aren't used for prediction or that we repurposed into new columns"
      ],
      "metadata": {
        "id": "ZbD8frIkDxvT"
      }
    },
    {
      "cell_type": "code",
      "source": [
        "full_df_simplified.drop(columns=['id_x', 'is_last_round', 'founded_at', 'funded_at'], inplace=True)"
      ],
      "metadata": {
        "id": "Twz98Ic2z5wg",
        "colab": {
          "base_uri": "https://localhost:8080/"
        },
        "outputId": "0063b234-7e2b-4017-8d74-ba1a51340d8a"
      },
      "execution_count": null,
      "outputs": [
        {
          "output_type": "stream",
          "name": "stderr",
          "text": [
            "<ipython-input-7-89609bdd561b>:1: SettingWithCopyWarning: \n",
            "A value is trying to be set on a copy of a slice from a DataFrame\n",
            "\n",
            "See the caveats in the documentation: https://pandas.pydata.org/pandas-docs/stable/user_guide/indexing.html#returning-a-view-versus-a-copy\n",
            "  full_df_simplified.drop(columns=['id_x', 'is_last_round', 'founded_at', 'funded_at'], inplace=True)\n"
          ]
        }
      ]
    },
    {
      "cell_type": "markdown",
      "source": [
        "###Scale numerical columns"
      ],
      "metadata": {
        "id": "cW5LxapeD_OT"
      }
    },
    {
      "cell_type": "code",
      "source": [
        "from sklearn.preprocessing import StandardScaler\n",
        "\n",
        "# Columns to scale\n",
        "numerical_cols = ['raised_amount_usd', 'total_funding_until_this_point', 'company_age_at_funding', 'time_since_last_round']\n",
        "\n",
        "# Standardizing these columns\n",
        "scaler = StandardScaler()\n",
        "full_df_simplified[numerical_cols] = scaler.fit_transform(full_df_simplified[numerical_cols])\n",
        "\n",
        "# Fill missing values with the median\n",
        "full_df_simplified = full_df_simplified.fillna(full_df_simplified.median())\n"
      ],
      "metadata": {
        "id": "Ca2raaK13Cnt"
      },
      "execution_count": null,
      "outputs": []
    },
    {
      "cell_type": "markdown",
      "source": [
        "###Filtering of data on round raised amount"
      ],
      "metadata": {
        "id": "rOB8CzspF8tS"
      }
    },
    {
      "cell_type": "code",
      "source": [
        "full_df_simplified = full_df_simplified[full_df_simplified['current_number_of_funding_rounds'] < 4]\n",
        "\n",
        "full_df_simplified_less = full_df_simplified[full_df_simplified['next_round_raised_amount_usd'] < 20000000]\n",
        "full_df_simplified_more = full_df_simplified[full_df_simplified['next_round_raised_amount_usd'] >= 20000000]"
      ],
      "metadata": {
        "id": "Oqo7VvgkFD5b"
      },
      "execution_count": null,
      "outputs": []
    },
    {
      "cell_type": "code",
      "source": [
        "full_df_simplified"
      ],
      "metadata": {
        "colab": {
          "base_uri": "https://localhost:8080/",
          "height": 444
        },
        "id": "lQtAGY4AOLCY",
        "outputId": "2f2b90f9-129d-499b-f03e-b10346266af3"
      },
      "execution_count": null,
      "outputs": [
        {
          "output_type": "execute_result",
          "data": {
            "text/plain": [
              "       funding_rounds  raised_amount_usd  total_funding_until_this_point  \\\n",
              "0                   3           0.011063                       -0.302527   \n",
              "1                   3           0.617832                        0.318742   \n",
              "5                   5          -0.452937                       -0.515066   \n",
              "6                   5           0.546448                        0.073504   \n",
              "9                   5          -0.443057                        0.208823   \n",
              "...               ...                ...                             ...   \n",
              "52611               5          -0.695645                       -0.626241   \n",
              "52612               5          -0.567152                       -0.547765   \n",
              "52613               5           0.118140                       -0.155384   \n",
              "52620               2          -0.652814                       -0.606622   \n",
              "52622               2          -0.702783                       -0.629511   \n",
              "\n",
              "       current_number_of_funding_rounds  company_age_at_funding  \\\n",
              "0                                     1               -0.804402   \n",
              "1                                     2               -0.539209   \n",
              "5                                     1               -0.577508   \n",
              "6                                     2               -0.171304   \n",
              "9                                     3                0.106076   \n",
              "...                                 ...                     ...   \n",
              "52611                                 1               -0.283300   \n",
              "52612                                 2               -0.023329   \n",
              "52613                                 3                0.205306   \n",
              "52620                                 1               -0.417928   \n",
              "52622                                 1               -1.148515   \n",
              "\n",
              "       time_since_last_round  next_round_raised_amount_usd  \n",
              "0                  -0.582429                     9500000.0  \n",
              "1                   0.813346                    25000000.0  \n",
              "5                  -0.582429                     9000000.0  \n",
              "6                   1.555520                     2069200.0  \n",
              "9                   0.877485                    12000000.0  \n",
              "...                      ...                           ...  \n",
              "52611              -0.582429                     1200000.0  \n",
              "52612               0.785858                     6000000.0  \n",
              "52613               0.620931                    15000000.0  \n",
              "52620              -0.582429                      500000.0  \n",
              "52622              -0.582429                      250000.0  \n",
              "\n",
              "[17882 rows x 7 columns]"
            ],
            "text/html": [
              "\n",
              "  <div id=\"df-4d09a267-0a47-43cf-9bf0-2967cf7e89ed\" class=\"colab-df-container\">\n",
              "    <div>\n",
              "<style scoped>\n",
              "    .dataframe tbody tr th:only-of-type {\n",
              "        vertical-align: middle;\n",
              "    }\n",
              "\n",
              "    .dataframe tbody tr th {\n",
              "        vertical-align: top;\n",
              "    }\n",
              "\n",
              "    .dataframe thead th {\n",
              "        text-align: right;\n",
              "    }\n",
              "</style>\n",
              "<table border=\"1\" class=\"dataframe\">\n",
              "  <thead>\n",
              "    <tr style=\"text-align: right;\">\n",
              "      <th></th>\n",
              "      <th>funding_rounds</th>\n",
              "      <th>raised_amount_usd</th>\n",
              "      <th>total_funding_until_this_point</th>\n",
              "      <th>current_number_of_funding_rounds</th>\n",
              "      <th>company_age_at_funding</th>\n",
              "      <th>time_since_last_round</th>\n",
              "      <th>next_round_raised_amount_usd</th>\n",
              "    </tr>\n",
              "  </thead>\n",
              "  <tbody>\n",
              "    <tr>\n",
              "      <th>0</th>\n",
              "      <td>3</td>\n",
              "      <td>0.011063</td>\n",
              "      <td>-0.302527</td>\n",
              "      <td>1</td>\n",
              "      <td>-0.804402</td>\n",
              "      <td>-0.582429</td>\n",
              "      <td>9500000.0</td>\n",
              "    </tr>\n",
              "    <tr>\n",
              "      <th>1</th>\n",
              "      <td>3</td>\n",
              "      <td>0.617832</td>\n",
              "      <td>0.318742</td>\n",
              "      <td>2</td>\n",
              "      <td>-0.539209</td>\n",
              "      <td>0.813346</td>\n",
              "      <td>25000000.0</td>\n",
              "    </tr>\n",
              "    <tr>\n",
              "      <th>5</th>\n",
              "      <td>5</td>\n",
              "      <td>-0.452937</td>\n",
              "      <td>-0.515066</td>\n",
              "      <td>1</td>\n",
              "      <td>-0.577508</td>\n",
              "      <td>-0.582429</td>\n",
              "      <td>9000000.0</td>\n",
              "    </tr>\n",
              "    <tr>\n",
              "      <th>6</th>\n",
              "      <td>5</td>\n",
              "      <td>0.546448</td>\n",
              "      <td>0.073504</td>\n",
              "      <td>2</td>\n",
              "      <td>-0.171304</td>\n",
              "      <td>1.555520</td>\n",
              "      <td>2069200.0</td>\n",
              "    </tr>\n",
              "    <tr>\n",
              "      <th>9</th>\n",
              "      <td>5</td>\n",
              "      <td>-0.443057</td>\n",
              "      <td>0.208823</td>\n",
              "      <td>3</td>\n",
              "      <td>0.106076</td>\n",
              "      <td>0.877485</td>\n",
              "      <td>12000000.0</td>\n",
              "    </tr>\n",
              "    <tr>\n",
              "      <th>...</th>\n",
              "      <td>...</td>\n",
              "      <td>...</td>\n",
              "      <td>...</td>\n",
              "      <td>...</td>\n",
              "      <td>...</td>\n",
              "      <td>...</td>\n",
              "      <td>...</td>\n",
              "    </tr>\n",
              "    <tr>\n",
              "      <th>52611</th>\n",
              "      <td>5</td>\n",
              "      <td>-0.695645</td>\n",
              "      <td>-0.626241</td>\n",
              "      <td>1</td>\n",
              "      <td>-0.283300</td>\n",
              "      <td>-0.582429</td>\n",
              "      <td>1200000.0</td>\n",
              "    </tr>\n",
              "    <tr>\n",
              "      <th>52612</th>\n",
              "      <td>5</td>\n",
              "      <td>-0.567152</td>\n",
              "      <td>-0.547765</td>\n",
              "      <td>2</td>\n",
              "      <td>-0.023329</td>\n",
              "      <td>0.785858</td>\n",
              "      <td>6000000.0</td>\n",
              "    </tr>\n",
              "    <tr>\n",
              "      <th>52613</th>\n",
              "      <td>5</td>\n",
              "      <td>0.118140</td>\n",
              "      <td>-0.155384</td>\n",
              "      <td>3</td>\n",
              "      <td>0.205306</td>\n",
              "      <td>0.620931</td>\n",
              "      <td>15000000.0</td>\n",
              "    </tr>\n",
              "    <tr>\n",
              "      <th>52620</th>\n",
              "      <td>2</td>\n",
              "      <td>-0.652814</td>\n",
              "      <td>-0.606622</td>\n",
              "      <td>1</td>\n",
              "      <td>-0.417928</td>\n",
              "      <td>-0.582429</td>\n",
              "      <td>500000.0</td>\n",
              "    </tr>\n",
              "    <tr>\n",
              "      <th>52622</th>\n",
              "      <td>2</td>\n",
              "      <td>-0.702783</td>\n",
              "      <td>-0.629511</td>\n",
              "      <td>1</td>\n",
              "      <td>-1.148515</td>\n",
              "      <td>-0.582429</td>\n",
              "      <td>250000.0</td>\n",
              "    </tr>\n",
              "  </tbody>\n",
              "</table>\n",
              "<p>17882 rows × 7 columns</p>\n",
              "</div>\n",
              "    <div class=\"colab-df-buttons\">\n",
              "\n",
              "  <div class=\"colab-df-container\">\n",
              "    <button class=\"colab-df-convert\" onclick=\"convertToInteractive('df-4d09a267-0a47-43cf-9bf0-2967cf7e89ed')\"\n",
              "            title=\"Convert this dataframe to an interactive table.\"\n",
              "            style=\"display:none;\">\n",
              "\n",
              "  <svg xmlns=\"http://www.w3.org/2000/svg\" height=\"24px\" viewBox=\"0 -960 960 960\">\n",
              "    <path d=\"M120-120v-720h720v720H120Zm60-500h600v-160H180v160Zm220 220h160v-160H400v160Zm0 220h160v-160H400v160ZM180-400h160v-160H180v160Zm440 0h160v-160H620v160ZM180-180h160v-160H180v160Zm440 0h160v-160H620v160Z\"/>\n",
              "  </svg>\n",
              "    </button>\n",
              "\n",
              "  <style>\n",
              "    .colab-df-container {\n",
              "      display:flex;\n",
              "      gap: 12px;\n",
              "    }\n",
              "\n",
              "    .colab-df-convert {\n",
              "      background-color: #E8F0FE;\n",
              "      border: none;\n",
              "      border-radius: 50%;\n",
              "      cursor: pointer;\n",
              "      display: none;\n",
              "      fill: #1967D2;\n",
              "      height: 32px;\n",
              "      padding: 0 0 0 0;\n",
              "      width: 32px;\n",
              "    }\n",
              "\n",
              "    .colab-df-convert:hover {\n",
              "      background-color: #E2EBFA;\n",
              "      box-shadow: 0px 1px 2px rgba(60, 64, 67, 0.3), 0px 1px 3px 1px rgba(60, 64, 67, 0.15);\n",
              "      fill: #174EA6;\n",
              "    }\n",
              "\n",
              "    .colab-df-buttons div {\n",
              "      margin-bottom: 4px;\n",
              "    }\n",
              "\n",
              "    [theme=dark] .colab-df-convert {\n",
              "      background-color: #3B4455;\n",
              "      fill: #D2E3FC;\n",
              "    }\n",
              "\n",
              "    [theme=dark] .colab-df-convert:hover {\n",
              "      background-color: #434B5C;\n",
              "      box-shadow: 0px 1px 3px 1px rgba(0, 0, 0, 0.15);\n",
              "      filter: drop-shadow(0px 1px 2px rgba(0, 0, 0, 0.3));\n",
              "      fill: #FFFFFF;\n",
              "    }\n",
              "  </style>\n",
              "\n",
              "    <script>\n",
              "      const buttonEl =\n",
              "        document.querySelector('#df-4d09a267-0a47-43cf-9bf0-2967cf7e89ed button.colab-df-convert');\n",
              "      buttonEl.style.display =\n",
              "        google.colab.kernel.accessAllowed ? 'block' : 'none';\n",
              "\n",
              "      async function convertToInteractive(key) {\n",
              "        const element = document.querySelector('#df-4d09a267-0a47-43cf-9bf0-2967cf7e89ed');\n",
              "        const dataTable =\n",
              "          await google.colab.kernel.invokeFunction('convertToInteractive',\n",
              "                                                    [key], {});\n",
              "        if (!dataTable) return;\n",
              "\n",
              "        const docLinkHtml = 'Like what you see? Visit the ' +\n",
              "          '<a target=\"_blank\" href=https://colab.research.google.com/notebooks/data_table.ipynb>data table notebook</a>'\n",
              "          + ' to learn more about interactive tables.';\n",
              "        element.innerHTML = '';\n",
              "        dataTable['output_type'] = 'display_data';\n",
              "        await google.colab.output.renderOutput(dataTable, element);\n",
              "        const docLink = document.createElement('div');\n",
              "        docLink.innerHTML = docLinkHtml;\n",
              "        element.appendChild(docLink);\n",
              "      }\n",
              "    </script>\n",
              "  </div>\n",
              "\n",
              "\n",
              "<div id=\"df-6de80cf1-2a89-4224-a386-8dd79fb058ac\">\n",
              "  <button class=\"colab-df-quickchart\" onclick=\"quickchart('df-6de80cf1-2a89-4224-a386-8dd79fb058ac')\"\n",
              "            title=\"Suggest charts\"\n",
              "            style=\"display:none;\">\n",
              "\n",
              "<svg xmlns=\"http://www.w3.org/2000/svg\" height=\"24px\"viewBox=\"0 0 24 24\"\n",
              "     width=\"24px\">\n",
              "    <g>\n",
              "        <path d=\"M19 3H5c-1.1 0-2 .9-2 2v14c0 1.1.9 2 2 2h14c1.1 0 2-.9 2-2V5c0-1.1-.9-2-2-2zM9 17H7v-7h2v7zm4 0h-2V7h2v10zm4 0h-2v-4h2v4z\"/>\n",
              "    </g>\n",
              "</svg>\n",
              "  </button>\n",
              "\n",
              "<style>\n",
              "  .colab-df-quickchart {\n",
              "      --bg-color: #E8F0FE;\n",
              "      --fill-color: #1967D2;\n",
              "      --hover-bg-color: #E2EBFA;\n",
              "      --hover-fill-color: #174EA6;\n",
              "      --disabled-fill-color: #AAA;\n",
              "      --disabled-bg-color: #DDD;\n",
              "  }\n",
              "\n",
              "  [theme=dark] .colab-df-quickchart {\n",
              "      --bg-color: #3B4455;\n",
              "      --fill-color: #D2E3FC;\n",
              "      --hover-bg-color: #434B5C;\n",
              "      --hover-fill-color: #FFFFFF;\n",
              "      --disabled-bg-color: #3B4455;\n",
              "      --disabled-fill-color: #666;\n",
              "  }\n",
              "\n",
              "  .colab-df-quickchart {\n",
              "    background-color: var(--bg-color);\n",
              "    border: none;\n",
              "    border-radius: 50%;\n",
              "    cursor: pointer;\n",
              "    display: none;\n",
              "    fill: var(--fill-color);\n",
              "    height: 32px;\n",
              "    padding: 0;\n",
              "    width: 32px;\n",
              "  }\n",
              "\n",
              "  .colab-df-quickchart:hover {\n",
              "    background-color: var(--hover-bg-color);\n",
              "    box-shadow: 0 1px 2px rgba(60, 64, 67, 0.3), 0 1px 3px 1px rgba(60, 64, 67, 0.15);\n",
              "    fill: var(--button-hover-fill-color);\n",
              "  }\n",
              "\n",
              "  .colab-df-quickchart-complete:disabled,\n",
              "  .colab-df-quickchart-complete:disabled:hover {\n",
              "    background-color: var(--disabled-bg-color);\n",
              "    fill: var(--disabled-fill-color);\n",
              "    box-shadow: none;\n",
              "  }\n",
              "\n",
              "  .colab-df-spinner {\n",
              "    border: 2px solid var(--fill-color);\n",
              "    border-color: transparent;\n",
              "    border-bottom-color: var(--fill-color);\n",
              "    animation:\n",
              "      spin 1s steps(1) infinite;\n",
              "  }\n",
              "\n",
              "  @keyframes spin {\n",
              "    0% {\n",
              "      border-color: transparent;\n",
              "      border-bottom-color: var(--fill-color);\n",
              "      border-left-color: var(--fill-color);\n",
              "    }\n",
              "    20% {\n",
              "      border-color: transparent;\n",
              "      border-left-color: var(--fill-color);\n",
              "      border-top-color: var(--fill-color);\n",
              "    }\n",
              "    30% {\n",
              "      border-color: transparent;\n",
              "      border-left-color: var(--fill-color);\n",
              "      border-top-color: var(--fill-color);\n",
              "      border-right-color: var(--fill-color);\n",
              "    }\n",
              "    40% {\n",
              "      border-color: transparent;\n",
              "      border-right-color: var(--fill-color);\n",
              "      border-top-color: var(--fill-color);\n",
              "    }\n",
              "    60% {\n",
              "      border-color: transparent;\n",
              "      border-right-color: var(--fill-color);\n",
              "    }\n",
              "    80% {\n",
              "      border-color: transparent;\n",
              "      border-right-color: var(--fill-color);\n",
              "      border-bottom-color: var(--fill-color);\n",
              "    }\n",
              "    90% {\n",
              "      border-color: transparent;\n",
              "      border-bottom-color: var(--fill-color);\n",
              "    }\n",
              "  }\n",
              "</style>\n",
              "\n",
              "  <script>\n",
              "    async function quickchart(key) {\n",
              "      const quickchartButtonEl =\n",
              "        document.querySelector('#' + key + ' button');\n",
              "      quickchartButtonEl.disabled = true;  // To prevent multiple clicks.\n",
              "      quickchartButtonEl.classList.add('colab-df-spinner');\n",
              "      try {\n",
              "        const charts = await google.colab.kernel.invokeFunction(\n",
              "            'suggestCharts', [key], {});\n",
              "      } catch (error) {\n",
              "        console.error('Error during call to suggestCharts:', error);\n",
              "      }\n",
              "      quickchartButtonEl.classList.remove('colab-df-spinner');\n",
              "      quickchartButtonEl.classList.add('colab-df-quickchart-complete');\n",
              "    }\n",
              "    (() => {\n",
              "      let quickchartButtonEl =\n",
              "        document.querySelector('#df-6de80cf1-2a89-4224-a386-8dd79fb058ac button');\n",
              "      quickchartButtonEl.style.display =\n",
              "        google.colab.kernel.accessAllowed ? 'block' : 'none';\n",
              "    })();\n",
              "  </script>\n",
              "</div>\n",
              "    </div>\n",
              "  </div>\n"
            ]
          },
          "metadata": {},
          "execution_count": 10
        }
      ]
    },
    {
      "cell_type": "markdown",
      "source": [
        "---\n",
        "\n",
        "\n",
        "\n",
        "---\n",
        "\n",
        "# END OF DATA PREPROCESSING\n",
        "\n",
        "---\n",
        "\n",
        "\n",
        "\n",
        "---\n",
        "\n"
      ],
      "metadata": {
        "id": "Giqg3TrSGQEV"
      }
    },
    {
      "cell_type": "code",
      "source": [
        "from sklearn.model_selection import train_test_split\n",
        "from sklearn.linear_model import LinearRegression\n",
        "\n",
        "test_set, discard_set = train_test_split(full_df_simplified_less, test_size=0.2, random_state=42)\n",
        "\n",
        "# Split the other dataset into training and validation sets\n",
        "train_set, validation_set = train_test_split(full_df_simplified_more, test_size=0.2, random_state=42)\n",
        "\n",
        "# Combine the training set with the discard set\n",
        "final_train_set = pd.concat([train_set, discard_set])\n",
        "\n",
        "X_train = final_train_set.drop('next_round_raised_amount_usd', axis=1)\n",
        "Y_train = final_train_set['next_round_raised_amount_usd']\n",
        "\n",
        "# And for the test_set\n",
        "X_test = test_set.drop('next_round_raised_amount_usd', axis=1)\n",
        "Y_test = test_set['next_round_raised_amount_usd']\n",
        "\n",
        "# Train the model on the new training set\n",
        "model = LinearRegression()\n",
        "model.fit(X_train, Y_train)\n",
        "\n",
        "import pandas as pd\n",
        "\n",
        "# Define the data for the DataFrame\n",
        "data = {\n",
        "    'funding_rounds': [4],\n",
        "    'raised_amount_usd': [40000000],\n",
        "    'total_funding_until_this_point': [65000000],\n",
        "    'current_number_of_funding_rounds': [2],\n",
        "    'company_age_at_funding': [900],\n",
        "    'time_since_last_round': [372],\n",
        "    'next_round_raised_amount_usd': [80000000]\n",
        "}\n",
        "\n",
        "# Create the DataFrame\n",
        "df = pd.DataFrame(data)\n",
        "df_test = df.drop('next_round_raised_amount_usd', axis=1)\n",
        "# Display the DataFrame\n",
        "print(df)\n",
        "\n",
        "\n",
        "# Predicting on test data\n",
        "y_pred = model.predict(df_test)\n",
        "print(y_pred)\n"
      ],
      "metadata": {
        "colab": {
          "base_uri": "https://localhost:8080/"
        },
        "id": "r9uoDvQa5N3A",
        "outputId": "057ab639-2656-4686-eaeb-9bd68b556139"
      },
      "execution_count": null,
      "outputs": [
        {
          "output_type": "stream",
          "name": "stdout",
          "text": [
            "   funding_rounds  raised_amount_usd  total_funding_until_this_point  \\\n",
            "0               4           40000000                        65000000   \n",
            "\n",
            "   current_number_of_funding_rounds  company_age_at_funding  \\\n",
            "0                                 2                     900   \n",
            "\n",
            "   time_since_last_round  next_round_raised_amount_usd  \n",
            "0                    372                      80000000  \n",
            "[2.97315904e+14]\n"
          ]
        }
      ]
    },
    {
      "cell_type": "code",
      "source": [
        "from sklearn.metrics import mean_squared_error\n",
        "import numpy as np\n",
        "\n",
        "# Calculating RMSE\n",
        "rmse = np.sqrt(mean_squared_error(Y_test, y_pred))\n",
        "print(f\"RMSE: {rmse}\")\n",
        "\n",
        "# Viewing coefficients to understand feature importance\n",
        "feature_importance = pd.DataFrame(model.coef_, index=X_train.columns, columns=['Coefficient'])\n",
        "print(feature_importance)\n"
      ],
      "metadata": {
        "id": "ntqCPaI33PFa"
      },
      "execution_count": null,
      "outputs": []
    },
    {
      "cell_type": "code",
      "source": [
        "residuals = abs(Y_test - y_pred)\n",
        "residuals.describe()"
      ],
      "metadata": {
        "id": "rHLCUZ4uEWb3"
      },
      "execution_count": null,
      "outputs": []
    },
    {
      "cell_type": "code",
      "source": [
        "residuals.hist(bins=15)"
      ],
      "metadata": {
        "id": "0gpzDEV7-hsI"
      },
      "execution_count": null,
      "outputs": []
    },
    {
      "cell_type": "code",
      "source": [
        "import pandas as pd\n",
        "import matplotlib.pyplot as plt\n",
        "\n",
        "# Calculate the percentage difference\n",
        "percentage_diff = abs((Y_test - y_pred) / Y_test) * 100\n",
        "\n",
        "# Categorize into buckets\n",
        "bins = [0, 5, 10, 15, 20, 25, 30, 35, 40, 45, 50, 55, 60, 65, 70, 75, 80, 85, 90, 95, 100]\n",
        "labels = ['0-5%', '5-10%', '10-15%', '15-20%', '20-25%', '25-30%', '30-35%', '35-40%', '40-45%', '45-50%', '50-55%', '55-60%', '60-65%', '65-70%', '70-75%', '75-80%', '80-85%', '85-90%', '90-95%', '95-100%']\n",
        "percentage_diff_binned = pd.cut(percentage_diff, bins=bins, labels=labels, include_lowest=True)\n",
        "\n",
        "# Plot histogram\n",
        "plt.figure(figsize=(10,6))\n",
        "percentage_diff_binned.value_counts(sort=False).plot(kind='bar')\n",
        "plt.xlabel('Percentage Difference Buckets')\n",
        "plt.ylabel('Frequency')\n",
        "plt.title('Histogram of Percentage Difference between Predicted and Actual Values')\n",
        "plt.show()\n"
      ],
      "metadata": {
        "id": "HgVL3ULetGII"
      },
      "execution_count": null,
      "outputs": []
    },
    {
      "cell_type": "code",
      "source": [
        "import matplotlib.pyplot as plt\n",
        "\n",
        "# Predicted vs Actual Values Plot\n",
        "plt.figure(figsize=(10, 6))\n",
        "plt.scatter(Y_test, y_pred, alpha=0.5)\n",
        "plt.title('Predicted vs Actual Values')\n",
        "plt.xlabel('Actual Values')\n",
        "plt.ylabel('Predicted Values')\n",
        "plt.plot([Y_test.min(), Y_test.max()], [Y_test.min(), Y_test.max()], 'k--', lw=4)\n",
        "plt.show()\n",
        "\n",
        "# Residual Plot\n",
        "residuals = Y_test - y_pred\n",
        "plt.figure(figsize=(10, 6))\n",
        "plt.scatter(Y_test, residuals, alpha=0.5)\n",
        "plt.title('Residuals vs Actual Values')\n",
        "plt.xlabel('Actual Values')\n",
        "plt.ylabel('Residuals')\n",
        "plt.hlines(y=0, xmin=Y_test.min(), xmax=Y_test.max(), colors='red', linestyles='--')\n",
        "plt.show()\n",
        "\n",
        "# Residual Histogram\n",
        "plt.figure(figsize=(10, 6))\n",
        "plt.hist(residuals, bins=30, alpha=0.7, color='blue')\n",
        "plt.title('Histogram of Residuals')\n",
        "plt.xlabel('Residuals')\n",
        "plt.ylabel('Frequency')\n",
        "plt.show()\n"
      ],
      "metadata": {
        "id": "Ursygm7kKPo9"
      },
      "execution_count": null,
      "outputs": []
    }
  ]
}